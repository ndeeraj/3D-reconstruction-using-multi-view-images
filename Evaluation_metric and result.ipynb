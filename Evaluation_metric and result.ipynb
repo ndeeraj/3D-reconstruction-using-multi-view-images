{
 "cells": [
  {
   "cell_type": "code",
   "execution_count": 1,
   "metadata": {},
   "outputs": [],
   "source": [
    "import os\n",
    "import sys\n",
    "import torch\n",
    "need_pytorch3d=False\n",
    "try:\n",
    "    import pytorch3d\n",
    "except ModuleNotFoundError:\n",
    "    need_pytorch3d=True\n",
    "if need_pytorch3d:\n",
    "    if torch.__version__.startswith(\"1.12.\") and sys.platform.startswith(\"linux\"):\n",
    "        # We try to install PyTorch3D via a released wheel.\n",
    "        pyt_version_str=torch.__version__.split(\"+\")[0].replace(\".\", \"\")\n",
    "        version_str=\"\".join([\n",
    "            f\"py3{sys.version_info.minor}_cu\",\n",
    "            torch.version.cuda.replace(\".\",\"\"),\n",
    "            f\"_pyt{pyt_version_str}\"\n",
    "        ])\n",
    "        !pip install fvcore iopath\n",
    "        !pip install --no-index --no-cache-dir pytorch3d -f https://dl.fbaipublicfiles.com/pytorch3d/packaging/wheels/{version_str}/download.html\n",
    "    else:\n",
    "        # We try to install PyTorch3D from source.\n",
    "        !curl -LO https://github.com/NVIDIA/cub/archive/1.10.0.tar.gz\n",
    "        !tar xzf 1.10.0.tar.gz\n",
    "        os.environ[\"CUB_HOME\"] = os.getcwd() + \"/cub-1.10.0\"\n",
    "        !pip install \"git+https://github.com/facebookresearch/pytorch3d.git@stable\"\n",
    "\n",
    "from pytorch3d.loss import (\n",
    "    chamfer_distance, \n",
    "    mesh_edge_loss, \n",
    "    mesh_laplacian_smoothing, \n",
    "    mesh_normal_consistency,\n",
    ")\n",
    "import cv2\n",
    "\n",
    "import matplotlib.pyplot as plt\n",
    "\n",
    "import numpy as np\n",
    "\n",
    "import os\n",
    "import pandas as pd\n",
    "from PIL import Image"
   ]
  },
  {
   "cell_type": "code",
   "execution_count": 2,
   "metadata": {},
   "outputs": [
    {
     "name": "stdout",
     "output_type": "stream",
     "text": [
      "(1, 1149, 3)\n",
      "(1, 13140, 3)\n",
      "(1, 14814, 3)\n"
     ]
    }
   ],
   "source": [
    "a = np.load(\"C:\\\\Users\\\\Sasank\\\\Downloads\\\\CNN_cloud_11_view.npz\")\n",
    "CNN_point_cloud = a['arr_0'].reshape([1,a['arr_0'].shape[0],a['arr_0'].shape[1]])\n",
    "print(CNN_point_cloud.shape)\n",
    "a = np.load(\"C:\\\\Users\\\\Sasank\\\\Downloads\\\\SIFT_cloud_11_view.npz\")\n",
    "SIFT_point_cloud = a['arr_0'].reshape([1,a['arr_0'].shape[0],a['arr_0'].shape[1]])\n",
    "print(SIFT_point_cloud.shape)\n",
    "b = pd.read_csv(\"C:\\\\Users\\\\Sasank\\\\Downloads\\\\points3D.txt\",sep=\" \",header=None)\n",
    "bet = b[[1,2,3]]\n",
    "bet1 = bet.to_numpy()\n",
    "baseline = bet1.reshape([1,bet1.shape[0],bet1.shape[1]])\n",
    "print(baseline.shape)"
   ]
  },
  {
   "cell_type": "code",
   "execution_count": 3,
   "metadata": {},
   "outputs": [
    {
     "name": "stdout",
     "output_type": "stream",
     "text": [
      "<class 'torch.Tensor'>\n"
     ]
    }
   ],
   "source": [
    "#RUN only once\n",
    "CNN_point_cloud = torch.from_numpy(CNN_point_cloud.astype(np.float32))\n",
    "SIFT_point_cloud = torch.from_numpy(SIFT_point_cloud.astype(np.float32))\n",
    "baseline = torch.from_numpy(baseline.astype(np.float32))\n",
    "print(type(CNN_point_cloud))"
   ]
  },
  {
   "cell_type": "code",
   "execution_count": 4,
   "metadata": {},
   "outputs": [
    {
     "name": "stdout",
     "output_type": "stream",
     "text": [
      "(tensor(24.4184), None)\n",
      "(tensor(297.3587), None)\n"
     ]
    }
   ],
   "source": [
    "CNN_chamfer_distance = chamfer_distance(CNN_point_cloud,baseline)\n",
    "SIFT_chamfer_distance = chamfer_distance(SIFT_point_cloud,baseline)\n",
    "print(SIFT_chamfer_distance)\n",
    "print(CNN_chamfer_distance)"
   ]
  }
 ],
 "metadata": {
  "kernelspec": {
   "display_name": "Python 3",
   "language": "python",
   "name": "python3"
  },
  "language_info": {
   "codemirror_mode": {
    "name": "ipython",
    "version": 3
   },
   "file_extension": ".py",
   "mimetype": "text/x-python",
   "name": "python",
   "nbconvert_exporter": "python",
   "pygments_lexer": "ipython3",
   "version": "3.10.4"
  },
  "vscode": {
   "interpreter": {
    "hash": "ab3102f275e8dd2c0b94f2d61518a3ed4d703775ba37fafc7f8f10324f918aa9"
   }
  }
 },
 "nbformat": 4,
 "nbformat_minor": 2
}
